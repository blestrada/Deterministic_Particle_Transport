{
 "cells": [
  {
   "cell_type": "code",
   "execution_count": 2,
   "metadata": {},
   "outputs": [
    {
     "name": "stdout",
     "output_type": "stream",
     "text": [
      "Solution for chi: 3.4386346855867778e-09\n"
     ]
    }
   ],
   "source": [
    "import numpy as np\n",
    "from scipy.optimize import newton\n",
    "\n",
    "# Substitute known values for x_0, x_1, x_s, and dx\n",
    "x_0_val = 0.0  # Specify the known value\n",
    "x_1_val = 1.0\n",
    "x_s_val = 0.5\n",
    "dx_val = 1.0\n",
    "\n",
    "# Define f(chi) and f'(chi) as lambda functions\n",
    "f = lambda chi: (1.0 - chi * x_0_val + np.exp(chi * dx_val) * (chi * x_1_val - 1.0)) / \\\n",
    "                (chi * (np.exp(chi * dx_val) - 1.0)) - x_s_val\n",
    "f_prime = lambda chi: (-dx_val * (-chi * x_0_val + (chi * x_1_val - 1.0) * np.exp(chi * dx_val) + 1.0) * np.exp(chi * dx_val) /\n",
    "                       (chi * (np.exp(chi * dx_val) - 1.0)**2) +\n",
    "                       (dx_val * (chi * x_1_val - 1.0) * np.exp(chi * dx_val) - x_0_val + x_1_val * np.exp(chi * dx_val)) /\n",
    "                       (chi * (np.exp(chi * dx_val) - 1.0)) -\n",
    "                       (-chi * x_0_val + (chi * x_1_val - 1.0) * np.exp(chi * dx_val) + 1.0) /\n",
    "                       (chi**2 * (np.exp(chi * dx_val) - 1.0)))\n",
    "\n",
    "# Use Newton-Raphson to solve for chi\n",
    "chi_initial_guess = 0.5  # Initial guess for chi\n",
    "chi_solution = newton(f, chi_initial_guess, fprime=f_prime)\n",
    "print(\"Solution for chi:\", chi_solution)\n"
   ]
  }
 ],
 "metadata": {
  "kernelspec": {
   "display_name": ".venv",
   "language": "python",
   "name": "python3"
  },
  "language_info": {
   "codemirror_mode": {
    "name": "ipython",
    "version": 3
   },
   "file_extension": ".py",
   "mimetype": "text/x-python",
   "name": "python",
   "nbconvert_exporter": "python",
   "pygments_lexer": "ipython3",
   "version": "3.9.6"
  }
 },
 "nbformat": 4,
 "nbformat_minor": 2
}
